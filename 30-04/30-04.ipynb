{
 "cells": [
  {
   "cell_type": "code",
   "execution_count": 1,
   "metadata": {},
   "outputs": [],
   "source": [
    "from array import array"
   ]
  },
  {
   "cell_type": "code",
   "execution_count": 3,
   "metadata": {},
   "outputs": [
    {
     "data": {
      "text/plain": [
       "array.array"
      ]
     },
     "execution_count": 3,
     "metadata": {},
     "output_type": "execute_result"
    }
   ],
   "source": [
    "arr = array(\"i\",[1,2,3])\n",
    "type(arr)"
   ]
  },
  {
   "cell_type": "code",
   "execution_count": 4,
   "metadata": {},
   "outputs": [
    {
     "data": {
      "text/plain": [
       "array('i', [1, 2, 3, 1, 2, 3])"
      ]
     },
     "execution_count": 4,
     "metadata": {},
     "output_type": "execute_result"
    }
   ],
   "source": [
    "arr*2 #Nao multiplica a matriz"
   ]
  },
  {
   "cell_type": "code",
   "execution_count": 5,
   "metadata": {},
   "outputs": [
    {
     "name": "stdout",
     "output_type": "stream",
     "text": [
      "Collecting numpy\n",
      "  Downloading numpy-1.26.4-cp312-cp312-win_amd64.whl.metadata (61 kB)\n",
      "     ---------------------------------------- 0.0/61.0 kB ? eta -:--:--\n",
      "     ------ --------------------------------- 10.2/61.0 kB ? eta -:--:--\n",
      "     ------------------------- ------------ 41.0/61.0 kB 393.8 kB/s eta 0:00:01\n",
      "     -------------------------------------- 61.0/61.0 kB 461.8 kB/s eta 0:00:00\n",
      "Downloading numpy-1.26.4-cp312-cp312-win_amd64.whl (15.5 MB)\n",
      "   ---------------------------------------- 0.0/15.5 MB ? eta -:--:--\n",
      "   -- ------------------------------------- 1.0/15.5 MB 21.1 MB/s eta 0:00:01\n",
      "   ------ --------------------------------- 2.4/15.5 MB 25.2 MB/s eta 0:00:01\n",
      "   -------- ------------------------------- 3.3/15.5 MB 23.3 MB/s eta 0:00:01\n",
      "   --------- ------------------------------ 3.8/15.5 MB 20.3 MB/s eta 0:00:01\n",
      "   ----------- ---------------------------- 4.4/15.5 MB 18.9 MB/s eta 0:00:01\n",
      "   ------------- -------------------------- 5.1/15.5 MB 18.0 MB/s eta 0:00:01\n",
      "   --------------- ------------------------ 5.8/15.5 MB 17.8 MB/s eta 0:00:01\n",
      "   ----------------- ---------------------- 6.6/15.5 MB 17.6 MB/s eta 0:00:01\n",
      "   ------------------ --------------------- 7.2/15.5 MB 17.2 MB/s eta 0:00:01\n",
      "   -------------------- ------------------- 7.8/15.5 MB 16.6 MB/s eta 0:00:01\n",
      "   --------------------- ------------------ 8.4/15.5 MB 16.3 MB/s eta 0:00:01\n",
      "   ----------------------- ---------------- 9.0/15.5 MB 16.0 MB/s eta 0:00:01\n",
      "   ------------------------ --------------- 9.7/15.5 MB 15.8 MB/s eta 0:00:01\n",
      "   -------------------------- ------------- 10.4/15.5 MB 16.0 MB/s eta 0:00:01\n",
      "   ----------------------------- ---------- 11.3/15.5 MB 16.0 MB/s eta 0:00:01\n",
      "   ------------------------------- -------- 12.0/15.5 MB 15.2 MB/s eta 0:00:01\n",
      "   -------------------------------- ------- 12.6/15.5 MB 14.6 MB/s eta 0:00:01\n",
      "   ---------------------------------- ----- 13.4/15.5 MB 14.2 MB/s eta 0:00:01\n",
      "   ------------------------------------ --- 14.1/15.5 MB 14.6 MB/s eta 0:00:01\n",
      "   ------------------------------------- -- 14.7/15.5 MB 14.6 MB/s eta 0:00:01\n",
      "   ---------------------------------------  15.2/15.5 MB 14.2 MB/s eta 0:00:01\n",
      "   ---------------------------------------  15.5/15.5 MB 14.2 MB/s eta 0:00:01\n",
      "   ---------------------------------------  15.5/15.5 MB 14.2 MB/s eta 0:00:01\n",
      "   ---------------------------------------- 15.5/15.5 MB 12.3 MB/s eta 0:00:00\n",
      "Installing collected packages: numpy\n",
      "Successfully installed numpy-1.26.4\n"
     ]
    }
   ],
   "source": [
    "!pip install numpy"
   ]
  },
  {
   "cell_type": "code",
   "execution_count": 6,
   "metadata": {},
   "outputs": [],
   "source": [
    "import numpy as np"
   ]
  },
  {
   "cell_type": "code",
   "execution_count": 7,
   "metadata": {},
   "outputs": [
    {
     "name": "stdout",
     "output_type": "stream",
     "text": [
      "[1 2 3 4]\n"
     ]
    }
   ],
   "source": [
    "arr = np.array([1,2,3,4])\n",
    "print(arr)"
   ]
  },
  {
   "cell_type": "code",
   "execution_count": 9,
   "metadata": {},
   "outputs": [
    {
     "name": "stdout",
     "output_type": "stream",
     "text": [
      "[[1 2]\n",
      " [3 4]]\n"
     ]
    }
   ],
   "source": [
    "matriz = np.array([[1,2],[3,4]])\n",
    "print(matriz)\n"
   ]
  },
  {
   "cell_type": "code",
   "execution_count": 11,
   "metadata": {},
   "outputs": [
    {
     "name": "stdout",
     "output_type": "stream",
     "text": [
      "[[[1 2]\n",
      "  [3 4]]\n",
      "\n",
      " [[5 6]\n",
      "  [7 9]]]\n"
     ]
    }
   ],
   "source": [
    "tensor = np.array([[[1,2],[3,4]],[[5,6],[7,9]]])\n",
    "print(tensor)"
   ]
  },
  {
   "cell_type": "code",
   "execution_count": 13,
   "metadata": {},
   "outputs": [
    {
     "name": "stdout",
     "output_type": "stream",
     "text": [
      "(2, 2)\n",
      "(2, 2, 2)\n"
     ]
    }
   ],
   "source": [
    "print(matriz.shape) # mostra a dimensao \n",
    "print(tensor.shape)"
   ]
  },
  {
   "cell_type": "code",
   "execution_count": 16,
   "metadata": {},
   "outputs": [
    {
     "name": "stdout",
     "output_type": "stream",
     "text": [
      "int32\n",
      "int32\n"
     ]
    }
   ],
   "source": [
    "print(tensor.dtype)\n",
    "print(matriz.dtype)"
   ]
  },
  {
   "cell_type": "code",
   "execution_count": 18,
   "metadata": {},
   "outputs": [
    {
     "name": "stdout",
     "output_type": "stream",
     "text": [
      "[[1. 1. 1.]\n",
      " [1. 1. 1.]\n",
      " [1. 1. 1.]]\n",
      "[[0. 0. 0.]\n",
      " [0. 0. 0.]]\n",
      "<class 'numpy.ndarray'>\n"
     ]
    }
   ],
   "source": [
    "ones = np.ones((3,3))\n",
    "print(ones)\n",
    "\n",
    "zeros = np.zeros((2,3))\n",
    "print(zeros)\n",
    "print(type(zeros))"
   ]
  },
  {
   "cell_type": "code",
   "execution_count": 19,
   "metadata": {},
   "outputs": [
    {
     "name": "stdout",
     "output_type": "stream",
     "text": [
      "[[0.33262784 0.24379088 0.887005  ]\n",
      " [0.73994886 0.74592261 0.21673001]]\n"
     ]
    }
   ],
   "source": [
    "aleatorio = np.random.rand(2,3)\n",
    "print(aleatorio)"
   ]
  },
  {
   "cell_type": "code",
   "execution_count": 20,
   "metadata": {},
   "outputs": [
    {
     "name": "stdout",
     "output_type": "stream",
     "text": [
      "[[ 2 10 15]\n",
      " [ 2  5 13]\n",
      " [ 1 11  9]]\n"
     ]
    }
   ],
   "source": [
    "aleatorio_int = np.random.randint(0,20,size=(3,3))\n",
    "print(aleatorio_int)"
   ]
  },
  {
   "cell_type": "code",
   "execution_count": 24,
   "metadata": {},
   "outputs": [
    {
     "name": "stdout",
     "output_type": "stream",
     "text": [
      "[22 20 32  3 60 48 80 20 35 19]\n",
      "<class 'numpy.ndarray'>\n",
      "int32\n"
     ]
    }
   ],
   "source": [
    "execicio = np.random.randint(0,100,size=(10))\n",
    "print(execicio)\n",
    "print(type(execicio))\n",
    "print(execicio.dtype)"
   ]
  },
  {
   "cell_type": "code",
   "execution_count": 33,
   "metadata": {},
   "outputs": [
    {
     "name": "stdout",
     "output_type": "stream",
     "text": [
      "Min: 0.00639242139554308\n",
      "Max: 0.9066631828297358\n",
      "Media: 0.3898210114894707\n"
     ]
    }
   ],
   "source": [
    "ex2 = np.random.rand(5,5)\n",
    "#print(ex2)\n",
    "print(f\"Min: {ex2.min()}\")\n",
    "print(f\"Max: {ex2.max()}\")\n",
    "print(f\"Media: {ex2.mean()}\")"
   ]
  },
  {
   "cell_type": "code",
   "execution_count": 37,
   "metadata": {},
   "outputs": [
    {
     "name": "stdout",
     "output_type": "stream",
     "text": [
      "[0.29047237 0.08321453 0.02703114 0.4099798  0.28003535 0.61053388\n",
      " 0.0513856  0.55322946 0.44167474 0.8727195 ]\n",
      "[2.90472368 0.83214529 0.27031135 4.09979802 2.8003535  6.10533878\n",
      " 0.51385596 5.53229464 4.41674745 8.72719501]\n"
     ]
    },
    {
     "data": {
      "text/plain": [
       "array([2, 0, 0, 4, 2, 6, 0, 5, 4, 8])"
      ]
     },
     "execution_count": 37,
     "metadata": {},
     "output_type": "execute_result"
    }
   ],
   "source": [
    "exe2 = np.random.rand(10)\n",
    "print(exe2)\n",
    "exe3 = exe2*10\n",
    "print(exe3)\n",
    "exe3.dtype\n",
    "exe3.astype(int)"
   ]
  },
  {
   "cell_type": "code",
   "execution_count": null,
   "metadata": {},
   "outputs": [],
   "source": [
    "!pip install scikit-image"
   ]
  },
  {
   "cell_type": "code",
   "execution_count": null,
   "metadata": {},
   "outputs": [],
   "source": []
  }
 ],
 "metadata": {
  "kernelspec": {
   "display_name": "Python 3",
   "language": "python",
   "name": "python3"
  },
  "language_info": {
   "codemirror_mode": {
    "name": "ipython",
    "version": 3
   },
   "file_extension": ".py",
   "mimetype": "text/x-python",
   "name": "python",
   "nbconvert_exporter": "python",
   "pygments_lexer": "ipython3",
   "version": "3.12.2"
  }
 },
 "nbformat": 4,
 "nbformat_minor": 2
}
